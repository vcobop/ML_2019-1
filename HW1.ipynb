{
 "cells": [
  {
   "cell_type": "markdown",
   "metadata": {},
   "source": [
    "# Assignment 1\n",
    "## Linear Algebra and Probability\n",
    "Machine Learning"
   ]
  },
  {
   "cell_type": "markdown",
   "metadata": {},
   "source": [
    "2. Let $D = \\{d_1,\\cdots,d_m\\}$  be a set of documents and $T = \\{t_1,\\cdots,t_m\\}$ a set of terms (words). Let\n",
    "$TD = (TD_{i,j})_{i=1\\cdots m,j=1\\cdots n}$ be a matrix such that $(TD)_{i,j}$ corresponds to the number of times\n",
    "the term $t_i$ appears in the document $d_j$. Also, let $l_i$ be the length, number of characters, of term $t_i$, and let $L = (l_1,\\cdots,l_m)$ be a column vector. Finally, assume a process where a document $d_j$ is randomly chosen with uniform probability and then a term $t_i$, present in $d_j$, is randomly chosen with a probability proportional to the frequency of $t_i$ in $d_j$."
   ]
  },
  {
   "cell_type": "markdown",
   "metadata": {},
   "source": [
    "For all the following expressions you must provide:\n",
    "- a mathematical expression to calculate it that includes TD, L, constants (scalars, vectors\n",
    "or matrices) and linear algebra operations\n",
    "-  a expression in Numpy [scipy](http://www.scipy.org) that, when evaluated, generates the re-\n",
    "quested matrix, vector or scalar (the expression must be a linear algebra expression that\n",
    "does not involve control structures such as for, while etc.)\n",
    "-  the result of evaluating the expression, assuming:"
   ]
  },
  {
   "cell_type": "markdown",
   "metadata": {},
   "source": [
    "$$\n",
    "TD=\\begin{pmatrix}\n",
    "2&3&0&3&7\\\\\n",
    "0&5&5&0&3\\\\\n",
    "5&0&7&3&3\\\\\n",
    "3&1&0&9&9\\\\ \n",
    "0&0&7&1&3\\\\\n",
    "6&9&4&6&0\\\\\n",
    "\\end{pmatrix}\n",
    ",\\qquad L=\\begin{pmatrix}\n",
    "5\\\\\n",
    "2\\\\\n",
    "3\\\\\n",
    "6\\\\\n",
    "4\\\\\n",
    "3\\\\\n",
    "\\end{pmatrix}\n",
    "$$\n"
   ]
  },
  {
   "cell_type": "markdown",
   "metadata": {},
   "source": [
    "1. Matrix $P(T,D)$(each position of the matrix, $P(T,D)_{i,j}$ , corresponds to the joint probability of term $t_i$ and document $d_j$ , $P(t_i, d_j)$)\n",
    "1. Matrix $P(T|D)$\n",
    "1. Matrix $P(D|T)$\n",
    "1. Vector $P(D)$\n",
    "1. Vector $P(T)$\n",
    "1. $E[l]$ (the expected value of the random variable $l$ corresponding to the length of a randomly chosen term)\n",
    "1. $\\text{var}(l)$ (The Variance of $l$)"
   ]
  },
  {
   "cell_type": "markdown",
   "metadata": {},
   "source": [
    "## Solution\n",
    "\n",
    "First, we define the matrix $TD$ and the vector $L$ "
   ]
  },
  {
   "cell_type": "code",
   "execution_count": 59,
   "metadata": {},
   "outputs": [],
   "source": [
    "import numpy as np"
   ]
  },
  {
   "cell_type": "code",
   "execution_count": 60,
   "metadata": {},
   "outputs": [
    {
     "name": "stdout",
     "output_type": "stream",
     "text": [
      "[[2 3 0 3 7]\n",
      " [0 5 5 0 3]\n",
      " [5 0 7 3 3]\n",
      " [3 1 0 9 9]\n",
      " [0 0 7 1 3]\n",
      " [6 9 4 6 0]]\n"
     ]
    }
   ],
   "source": [
    "TD=np.matrix([\n",
    "    [2,3,0,3,7],\n",
    "    [0,5,5,0,3],\n",
    "    [5,0,7,3,3],\n",
    "    [3,1,0,9,9],\n",
    "    [0,0,7,1,3],\n",
    "    [6,9,4,6,0],\n",
    "    ])\n",
    "print(TD)"
   ]
  },
  {
   "cell_type": "markdown",
   "metadata": {},
   "source": [
    "We use `np.matrix([]).T` so that the result is a column vector as it should be, without the `T` the result is a row vector."
   ]
  },
  {
   "cell_type": "code",
   "execution_count": 61,
   "metadata": {},
   "outputs": [
    {
     "name": "stdout",
     "output_type": "stream",
     "text": [
      "[[5]\n",
      " [2]\n",
      " [3]\n",
      " [6]\n",
      " [4]\n",
      " [3]]\n"
     ]
    }
   ],
   "source": [
    "L=np.matrix([5,2,3,6,4,3]).T\n",
    "print(L)"
   ]
  },
  {
   "cell_type": "markdown",
   "metadata": {},
   "source": [
    "1. The joint probability $P(T,D)$ measures the _likelihood_ of having $T$ and $D$ at the same time. As the two variables are independent (We do not have reasons to say they are correlated) it can be seen as the product of the two probabilities\n",
    "$$\n",
    "P(T=t_i,D=d_j)=P(T=t_i)\\cdot P(D=d_j)\n",
    "$$\n",
    "It reads that the probability of having $T=t_i$ and $D=d_j$ together is the product of them.\n",
    "\n",
    "We have to consider the following,\n",
    "\n",
    "- As the process tells us that the probability of choosing $d_i$ is __uniform!__, all documents have the same probability\n",
    "$$\n",
    "P(D=d_i)=\\frac{1}{\\# \\text{ of Documents}}\n",
    "$$\n",
    "The number of documents is the same number of columns!.\n",
    "- As the probability of choosing $t_i$ depends on the frequencies, we have to normalize them, to do so we sum the values of the columns and then dividing each column by its result."
   ]
  },
  {
   "cell_type": "code",
   "execution_count": 62,
   "metadata": {},
   "outputs": [
    {
     "name": "stdout",
     "output_type": "stream",
     "text": [
      "6 5\n"
     ]
    }
   ],
   "source": [
    "n_rows,n_cols=np.shape(TD)\n",
    "print(n_rows,n_cols)"
   ]
  },
  {
   "cell_type": "markdown",
   "metadata": {},
   "source": [
    "The frequencies are calculating by summing all over the columns,"
   ]
  },
  {
   "cell_type": "code",
   "execution_count": 63,
   "metadata": {},
   "outputs": [
    {
     "name": "stdout",
     "output_type": "stream",
     "text": [
      "[[16 18 23 22 25]]\n"
     ]
    }
   ],
   "source": [
    "FTD=np.sum(TD,axis=0) #sum each row?\n",
    "print(FTD) "
   ]
  },
  {
   "cell_type": "markdown",
   "metadata": {},
   "source": [
    "`NumPy` can take a matrix (or ndarray) and divide it by other structure of:\n",
    "- The same size: Divides component by component.\n",
    "- Scalar: Divides all by the number.\n",
    "- 1d Array: if they have the same number of __columns__, it divides each column by the correspondent number (As it is our case).\n"
   ]
  },
  {
   "cell_type": "code",
   "execution_count": 65,
   "metadata": {},
   "outputs": [
    {
     "name": "stdout",
     "output_type": "stream",
     "text": [
      "[[0.125      0.16666667 0.         0.13636364 0.28      ]\n",
      " [0.         0.27777778 0.2173913  0.         0.12      ]\n",
      " [0.3125     0.         0.30434783 0.13636364 0.12      ]\n",
      " [0.1875     0.05555556 0.         0.40909091 0.36      ]\n",
      " [0.         0.         0.30434783 0.04545455 0.12      ]\n",
      " [0.375      0.5        0.17391304 0.27272727 0.        ]] 5.0\n"
     ]
    }
   ],
   "source": [
    "Aux=TD/FTD"
   ]
  },
  {
   "cell_type": "markdown",
   "metadata": {},
   "source": [
    "And then multiplying by the probability of choosing the file $i$th,"
   ]
  },
  {
   "cell_type": "code",
   "execution_count": 67,
   "metadata": {},
   "outputs": [
    {
     "name": "stdout",
     "output_type": "stream",
     "text": [
      "[[0.025      0.03333333 0.         0.02727273 0.056     ]\n",
      " [0.         0.05555556 0.04347826 0.         0.024     ]\n",
      " [0.0625     0.         0.06086957 0.02727273 0.024     ]\n",
      " [0.0375     0.01111111 0.         0.08181818 0.072     ]\n",
      " [0.         0.         0.06086957 0.00909091 0.024     ]\n",
      " [0.075      0.1        0.03478261 0.05454545 0.        ]] verificamos que esté bien 1.0\n"
     ]
    }
   ],
   "source": [
    "PTD=Aux/n_cols\n",
    "print(PTD,\"verificamos que esté bien\",np.sum(PTD))"
   ]
  },
  {
   "cell_type": "markdown",
   "metadata": {},
   "source": [
    "As the two events are independent\n",
    "$$\n",
    "P(A|B)=P(A)\n",
    "$$\n",
    "and\n",
    "$$\n",
    "P(B|A)=P(B)\n",
    "$$\n",
    "<font color='red'>Note</font> Esto es lo que no me cuadra"
   ]
  },
  {
   "cell_type": "markdown",
   "metadata": {},
   "source": [
    "The vector probabilities are calculated as the sum over rows and columns respectively\n",
    "for the file"
   ]
  },
  {
   "cell_type": "code",
   "execution_count": 68,
   "metadata": {},
   "outputs": [
    {
     "name": "stdout",
     "output_type": "stream",
     "text": [
      "[[0.2 0.2 0.2 0.2 0.2]]\n"
     ]
    }
   ],
   "source": [
    "Prob_d=np.sum(PTD,axis=0)\n",
    "print(Prob_d)"
   ]
  },
  {
   "cell_type": "code",
   "execution_count": 32,
   "metadata": {},
   "outputs": [
    {
     "name": "stdout",
     "output_type": "stream",
     "text": [
      "[[0.03333333 0.03333333 0.03333333 0.03333333 0.03333333]\n",
      " [0.03333333 0.03333333 0.03333333 0.03333333 0.03333333]\n",
      " [0.03333333 0.03333333 0.03333333 0.03333333 0.03333333]\n",
      " [0.03333333 0.03333333 0.03333333 0.03333333 0.03333333]\n",
      " [0.03333333 0.03333333 0.03333333 0.03333333 0.03333333]\n",
      " [0.03333333 0.03333333 0.03333333 0.03333333 0.03333333]]\n"
     ]
    }
   ],
   "source": [
    "PAgivenB=(np.array([np.sum(PTD, axis=0)]*n_rows).reshape(np.shape(TD)))/n_rows\n",
    "print(PAgivenB)"
   ]
  },
  {
   "cell_type": "code",
   "execution_count": 34,
   "metadata": {},
   "outputs": [
    {
     "name": "stdout",
     "output_type": "stream",
     "text": [
      "[[0.02832121 0.02832121 0.02832121 0.02832121 0.02832121]\n",
      " [0.02460676 0.02460676 0.02460676 0.02460676 0.02460676]\n",
      " [0.03492846 0.03492846 0.03492846 0.03492846 0.03492846]\n",
      " [0.04048586 0.04048586 0.04048586 0.04048586 0.04048586]\n",
      " [0.01879209 0.01879209 0.01879209 0.01879209 0.01879209]\n",
      " [0.05286561 0.05286561 0.05286561 0.05286561 0.05286561]]\n"
     ]
    }
   ],
   "source": [
    "PBgivenA=(np.array([np.sum(PTD, axis=1)]*n_cols).T.reshape(np.shape(TD)))/n_cols\n",
    "print(PBgivenA)"
   ]
  },
  {
   "cell_type": "code",
   "execution_count": 36,
   "metadata": {},
   "outputs": [
    {
     "name": "stdout",
     "output_type": "stream",
     "text": [
      "[[0.025      0.03333333 0.         0.02727273 0.056     ]\n",
      " [0.         0.05555556 0.04347826 0.         0.024     ]\n",
      " [0.0625     0.         0.06086957 0.02727273 0.024     ]\n",
      " [0.0375     0.01111111 0.         0.08181818 0.072     ]\n",
      " [0.         0.         0.06086957 0.00909091 0.024     ]\n",
      " [0.075      0.1        0.03478261 0.05454545 0.        ]]\n"
     ]
    }
   ],
   "source": [
    "PBgivenA2=(TD/FTD)/n_cols\n",
    "print(PBgivenA2)"
   ]
  },
  {
   "cell_type": "code",
   "execution_count": null,
   "metadata": {},
   "outputs": [],
   "source": [
    "PBgivenA3=(PTD/(prob_d))"
   ]
  },
  {
   "cell_type": "markdown",
   "metadata": {},
   "source": [
    "And for the text"
   ]
  },
  {
   "cell_type": "code",
   "execution_count": 28,
   "metadata": {},
   "outputs": [
    {
     "name": "stdout",
     "output_type": "stream",
     "text": [
      "[[0.14160606]\n",
      " [0.12303382]\n",
      " [0.17464229]\n",
      " [0.20242929]\n",
      " [0.09396047]\n",
      " [0.26432806]]\n"
     ]
    }
   ],
   "source": [
    "Prob_t=np.sum(PTD,axis=1)\n",
    "print(Prob_t)"
   ]
  },
  {
   "cell_type": "markdown",
   "metadata": {},
   "source": [
    "The expected value of a discrete distribution is calculated as\n",
    "$$\n",
    "E[X]=\\sum_i p_ix_i\n",
    "$$\n",
    "we assume all of them to be equally probable"
   ]
  },
  {
   "cell_type": "code",
   "execution_count": 11,
   "metadata": {},
   "outputs": [
    {
     "name": "stdout",
     "output_type": "stream",
     "text": [
      "3.8333333333333335\n"
     ]
    }
   ],
   "source": [
    "def esp(X):\n",
    "    return np.sum(X)/len(X)\n",
    "Esp_l=esp(L)\n",
    "print(Esp_l)"
   ]
  },
  {
   "cell_type": "markdown",
   "metadata": {},
   "source": [
    "And the variance, can be calculated as\n",
    "$$\n",
    "\\text{Var}(X)=E[(X-E[X])^2]\n",
    "$$\n",
    "so,"
   ]
  },
  {
   "cell_type": "code",
   "execution_count": 12,
   "metadata": {},
   "outputs": [
    {
     "data": {
      "text/plain": [
       "1.8055555555555556"
      ]
     },
     "execution_count": 12,
     "metadata": {},
     "output_type": "execute_result"
    }
   ],
   "source": [
    "Var_l=esp(np.square(L-Esp_l))\n",
    "Var_l"
   ]
  },
  {
   "cell_type": "markdown",
   "metadata": {},
   "source": [
    "The function `np.square` calculates the square component wise."
   ]
  }
 ],
 "metadata": {
  "kernelspec": {
   "display_name": "Python 3",
   "language": "python",
   "name": "python3"
  },
  "language_info": {
   "codemirror_mode": {
    "name": "ipython",
    "version": 3
   },
   "file_extension": ".py",
   "mimetype": "text/x-python",
   "name": "python",
   "nbconvert_exporter": "python",
   "pygments_lexer": "ipython3",
   "version": "3.7.1"
  }
 },
 "nbformat": 4,
 "nbformat_minor": 2
}
